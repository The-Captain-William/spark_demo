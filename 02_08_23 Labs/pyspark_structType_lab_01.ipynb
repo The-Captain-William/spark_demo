{
 "cells": [
  {
   "cell_type": "code",
   "execution_count": 1,
   "metadata": {},
   "outputs": [],
   "source": [
    "import pyspark \n",
    "from pyspark.sql import SparkSession  # note this is not SparkContext \n",
    "from pyspark.sql.types import StructType, StructField, StringType, IntegerType, FloatType\n"
   ]
  },
  {
   "cell_type": "code",
   "execution_count": 2,
   "metadata": {},
   "outputs": [],
   "source": [
    "spark_app = SparkSession.builder.appName('lab_01').getOrCreate()\n",
    "# appName only sets an appName in this instance but doesn't run anything. "
   ]
  },
  {
   "cell_type": "code",
   "execution_count": 3,
   "metadata": {},
   "outputs": [],
   "source": [
    "# ------create student data with 5 rows and 6 attributes------\n",
    "students = [\n",
    "    ['001','john',23,5.79,67,'NY'], \n",
    "    ['002','James',18,3.79,34,'NY'], \n",
    "    ['003','Eric',17,2.79,17,'NJ'],\n",
    "    ['004','Shahparan',19,3.69,28,'NJ'],\n",
    "    ['005','Flex',37,5.59,54,'Dallas']\n",
    "    ]\n",
    "\n",
    "# rolno, name, age, height, weight, address"
   ]
  },
  {
   "cell_type": "code",
   "execution_count": 4,
   "metadata": {},
   "outputs": [],
   "source": [
    "schema=StructType([\n",
    "    StructField(\"rollno\",StringType(),True),\n",
    "    StructField(\"name\",StringType(),True),\n",
    "    StructField(\"age\",IntegerType(),True),\n",
    "    StructField(\"height\", FloatType(), True),\n",
    "    StructField(\"weight\", IntegerType(), True),\n",
    "    StructField(\"address\", StringType(), True)\n",
    "    ])\n",
    "\n",
    "# establishing schema and corresponding schema data-types"
   ]
  },
  {
   "cell_type": "code",
   "execution_count": 5,
   "metadata": {},
   "outputs": [
    {
     "name": "stdout",
     "output_type": "stream",
     "text": [
      "+------+---------+---+------+------+-------+\n",
      "|rollno|     name|age|height|weight|address|\n",
      "+------+---------+---+------+------+-------+\n",
      "|   001|     john| 23|  5.79|    67|     NY|\n",
      "|   002|    James| 18|  3.79|    34|     NY|\n",
      "|   003|     Eric| 17|  2.79|    17|     NJ|\n",
      "|   004|Shahparan| 19|  3.69|    28|     NJ|\n",
      "|   005|     Flex| 37|  5.59|    54| Dallas|\n",
      "+------+---------+---+------+------+-------+\n",
      "\n"
     ]
    }
   ],
   "source": [
    "df = spark_app.createDataFrame(students, schema=schema)  # data, schema\n",
    "df.show()\n"
   ]
  },
  {
   "cell_type": "code",
   "execution_count": 8,
   "metadata": {},
   "outputs": [
    {
     "name": "stdout",
     "output_type": "stream",
     "text": [
      "\n",
      "Dataframe Schema\n",
      "StructType([StructField('rollno', StringType(), True), StructField('name', StringType(), True), StructField('age', IntegerType(), True), StructField('height', FloatType(), True), StructField('weight', IntegerType(), True), StructField('address', StringType(), True)])\n",
      "\n",
      "Dataframe Schema Fields\n",
      "[StructField('rollno', StringType(), True), StructField('name', StringType(), True), StructField('age', IntegerType(), True), StructField('height', FloatType(), True), StructField('weight', IntegerType(), True), StructField('address', StringType(), True)]\n",
      " \n",
      "\n",
      "<class 'pyspark.sql.types.StructType'> <class 'list'>\n"
     ]
    }
   ],
   "source": [
    "print(f\"\"\"\n",
    "Dataframe Schema\\n{df.schema}\\n\n",
    "Dataframe Schema Fields\\n{df.schema.fields}\\n \n",
    "\"\"\")\n",
    "print(type(df.schema), type(df.schema.fields))\n",
    "# 'struct-type' datatype and list data-type"
   ]
  },
  {
   "cell_type": "code",
   "execution_count": 9,
   "metadata": {},
   "outputs": [
    {
     "name": "stdout",
     "output_type": "stream",
     "text": [
      "root\n",
      " |-- rollno: string (nullable = true)\n",
      " |-- name: string (nullable = true)\n",
      " |-- age: integer (nullable = true)\n",
      " |-- height: float (nullable = true)\n",
      " |-- weight: integer (nullable = true)\n",
      " |-- address: string (nullable = true)\n",
      "\n"
     ]
    }
   ],
   "source": [
    "df.printSchema() # ⭐ useful "
   ]
  },
  {
   "cell_type": "code",
   "execution_count": null,
   "metadata": {},
   "outputs": [],
   "source": []
  }
 ],
 "metadata": {
  "kernelspec": {
   "display_name": "Python 3",
   "language": "python",
   "name": "python3"
  },
  "language_info": {
   "codemirror_mode": {
    "name": "ipython",
    "version": 3
   },
   "file_extension": ".py",
   "mimetype": "text/x-python",
   "name": "python",
   "nbconvert_exporter": "python",
   "pygments_lexer": "ipython3",
   "version": "3.10.7"
  },
  "orig_nbformat": 4,
  "vscode": {
   "interpreter": {
    "hash": "5bea2310bf280d3b144e6b64c05a663e86ac96edc33a326b33c38cf224fa9498"
   }
  }
 },
 "nbformat": 4,
 "nbformat_minor": 2
}
