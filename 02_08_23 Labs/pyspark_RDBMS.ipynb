{
 "cells": [
  {
   "attachments": {},
   "cell_type": "markdown",
   "metadata": {},
   "source": [
    "# Create DataFrame from Data source (RDBMS)"
   ]
  },
  {
   "attachments": {},
   "cell_type": "markdown",
   "metadata": {},
   "source": [
    "## Introduction\n",
    "We  can create PySpark SQL DataFrame from different database sources such as SQL, Oracle, and PostgreSQL. In this lab, we will explore how to read data from SQL(MariaDB) using a JDBC connection. We will use the “classicmodels” database in this example. "
   ]
  },
  {
   "attachments": {},
   "cell_type": "markdown",
   "metadata": {},
   "source": [
    "## Setup Session"
   ]
  },
  {
   "cell_type": "code",
   "execution_count": 1,
   "metadata": {},
   "outputs": [],
   "source": [
    "from pyspark.sql import SparkSession"
   ]
  },
  {
   "cell_type": "code",
   "execution_count": 2,
   "metadata": {},
   "outputs": [],
   "source": [
    "session = SparkSession.builder.master('local[*]').appName('Test SQL app').getOrCreate()\n",
    "# NOTE\n",
    "# .master() required for initializing connection to either local server or URL\n",
    "# local[*] ==> 'local any'\n"
   ]
  },
  {
   "attachments": {},
   "cell_type": "markdown",
   "metadata": {},
   "source": [
    "## Reading from SQLDB\n",
    "### read.format().options() with the JDBC API"
   ]
  },
  {
   "cell_type": "code",
   "execution_count": 8,
   "metadata": {},
   "outputs": [],
   "source": [
    "from super_secret_password import PASSWORD\n",
    "sql_db_df = session.read.format(\"jdbc\").options(\n",
    "    driver=\"com.mysql.cj.jdbc.Driver\",\n",
    "    user=\"root\",\n",
    "    password=PASSWORD,  # tfw you forgot your password 👀\n",
    "    url=\"jdbc:mysql://localhost:3306/classicmodels\",\n",
    "    dbtable=\"classicmodels.orders\").load()  \n",
    "    # Note that we only loaded the orders table to the df ⭐\n",
    "\n",
    "# NOTE - JDBC\n",
    "# jdbc stands for 'java database connectivity' API\n",
    "# what's happening here is format is recognizing options' **kwargs as\n",
    "# the socket info needed to interface with the DB\n",
    "# .load() is returning everything as a dataframe\n",
    "\n",
    "\n",
    "\n"
   ]
  },
  {
   "cell_type": "code",
   "execution_count": 9,
   "metadata": {},
   "outputs": [
    {
     "name": "stdout",
     "output_type": "stream",
     "text": [
      "+-----------+----------+------------+-----------+-------+--------------------+--------------+\n",
      "|orderNumber| orderDate|requiredDate|shippedDate| status|            comments|customerNumber|\n",
      "+-----------+----------+------------+-----------+-------+--------------------+--------------+\n",
      "|      10100|2003-01-06|  2003-01-13| 2003-01-10|Shipped|                null|           363|\n",
      "|      10101|2003-01-09|  2003-01-18| 2003-01-11|Shipped|Check on availabi...|           128|\n",
      "+-----------+----------+------------+-----------+-------+--------------------+--------------+\n",
      "only showing top 2 rows\n",
      "\n"
     ]
    }
   ],
   "source": [
    "sql_db_df.show(2)"
   ]
  },
  {
   "attachments": {},
   "cell_type": "markdown",
   "metadata": {},
   "source": [
    "### Queries as methods: An example with count()"
   ]
  },
  {
   "cell_type": "code",
   "execution_count": 10,
   "metadata": {},
   "outputs": [
    {
     "data": {
      "text/plain": [
       "326"
      ]
     },
     "execution_count": 10,
     "metadata": {},
     "output_type": "execute_result"
    }
   ],
   "source": [
    "sql_db_df.count()  # number of rows"
   ]
  },
  {
   "attachments": {},
   "cell_type": "markdown",
   "metadata": {},
   "source": [
    "### Queries Built-in to the dataframe"
   ]
  },
  {
   "cell_type": "code",
   "execution_count": 12,
   "metadata": {},
   "outputs": [],
   "source": [
    "query = \"\"\"\n",
    "    (SELECT *\n",
    "    FROM orders\n",
    "    WHERE customerNumber = 144) as Customer\n",
    "\"\"\"\n",
    "\n",
    "sql_db_df_custom = session.read.format(\"jdbc\").options(\n",
    "    driver=\"com.mysql.cj.jdbc.Driver\",\n",
    "    user=\"root\",\n",
    "    password=PASSWORD,  \n",
    "    url=\"jdbc:mysql://localhost:3306/classicmodels\",\n",
    "    dbtable=query).load()\n",
    "# be mindful that the query needs to be encapsulated with () and given an alias for some reason"
   ]
  },
  {
   "cell_type": "code",
   "execution_count": 13,
   "metadata": {},
   "outputs": [
    {
     "name": "stdout",
     "output_type": "stream",
     "text": [
      "+-----------+----------+------------+-----------+-------+--------------------+--------------+\n",
      "|orderNumber| orderDate|requiredDate|shippedDate| status|            comments|customerNumber|\n",
      "+-----------+----------+------------+-----------+-------+--------------------+--------------+\n",
      "|      10112|2003-03-24|  2003-04-03| 2003-03-29|Shipped|Customer requeste...|           144|\n",
      "|      10320|2004-11-03|  2004-11-13| 2004-11-07|Shipped|                null|           144|\n",
      "|      10326|2004-11-09|  2004-11-16| 2004-11-10|Shipped|                null|           144|\n",
      "|      10334|2004-11-19|  2004-11-28|       null|On Hold|The outstaniding ...|           144|\n",
      "+-----------+----------+------------+-----------+-------+--------------------+--------------+\n",
      "\n"
     ]
    }
   ],
   "source": [
    "sql_db_df_custom.show()\n",
    "# this does not interfere with previous db connection and both can be displayed when called"
   ]
  },
  {
   "cell_type": "code",
   "execution_count": 20,
   "metadata": {},
   "outputs": [],
   "source": [
    "query_2 = \"\"\"\n",
    "    (SELECT *\n",
    "    FROM orders\n",
    "    WHERE customerNumber = 144 OR customerNumber = 128) as Customer\n",
    "\"\"\"\n",
    "\n",
    "sql_db_df_custom_2 = session.read.format(\"jdbc\").options(\n",
    "    driver=\"com.mysql.cj.jdbc.Driver\",\n",
    "    user=\"root\",\n",
    "    password=PASSWORD,  \n",
    "    url=\"jdbc:mysql://localhost:3306/classicmodels\",\n",
    "    dbtable=query_2).load()  "
   ]
  },
  {
   "cell_type": "code",
   "execution_count": 21,
   "metadata": {},
   "outputs": [
    {
     "name": "stdout",
     "output_type": "stream",
     "text": [
      "+-----------+----------+------------+-----------+-------+--------------------+--------------+\n",
      "|orderNumber| orderDate|requiredDate|shippedDate| status|            comments|customerNumber|\n",
      "+-----------+----------+------------+-----------+-------+--------------------+--------------+\n",
      "|      10101|2003-01-09|  2003-01-18| 2003-01-11|Shipped|Check on availabi...|           128|\n",
      "|      10230|2004-03-15|  2004-03-24| 2004-03-20|Shipped|Customer very con...|           128|\n",
      "|      10300|2003-10-04|  2003-10-13| 2003-10-09|Shipped|                null|           128|\n",
      "|      10323|2004-11-05|  2004-11-12| 2004-11-09|Shipped|                null|           128|\n",
      "|      10112|2003-03-24|  2003-04-03| 2003-03-29|Shipped|Customer requeste...|           144|\n",
      "|      10320|2004-11-03|  2004-11-13| 2004-11-07|Shipped|                null|           144|\n",
      "|      10326|2004-11-09|  2004-11-16| 2004-11-10|Shipped|                null|           144|\n",
      "|      10334|2004-11-19|  2004-11-28|       null|On Hold|The outstaniding ...|           144|\n",
      "+-----------+----------+------------+-----------+-------+--------------------+--------------+\n",
      "\n"
     ]
    }
   ],
   "source": [
    "sql_db_df_custom_2.show()"
   ]
  },
  {
   "cell_type": "code",
   "execution_count": null,
   "metadata": {},
   "outputs": [],
   "source": []
  }
 ],
 "metadata": {
  "kernelspec": {
   "display_name": "Python 3",
   "language": "python",
   "name": "python3"
  },
  "language_info": {
   "codemirror_mode": {
    "name": "ipython",
    "version": 3
   },
   "file_extension": ".py",
   "mimetype": "text/x-python",
   "name": "python",
   "nbconvert_exporter": "python",
   "pygments_lexer": "ipython3",
   "version": "3.10.7"
  },
  "orig_nbformat": 4,
  "vscode": {
   "interpreter": {
    "hash": "5bea2310bf280d3b144e6b64c05a663e86ac96edc33a326b33c38cf224fa9498"
   }
  }
 },
 "nbformat": 4,
 "nbformat_minor": 2
}
